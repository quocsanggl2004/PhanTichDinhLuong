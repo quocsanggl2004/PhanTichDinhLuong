{
 "cells": [
  {
   "cell_type": "code",
   "execution_count": 1,
   "metadata": {},
   "outputs": [],
   "source": [
    "import json\n",
    "import pandas as pd\n",
    "import re\n"
   ]
  },
  {
   "cell_type": "code",
   "execution_count": 2,
   "metadata": {},
   "outputs": [],
   "source": [
    "with open('TLP.json', 'r', encoding='utf-8') as file:\n",
    "    data = json.load(file)"
   ]
  },
  {
   "cell_type": "code",
   "execution_count": 3,
   "metadata": {},
   "outputs": [],
   "source": [
    "df = pd.DataFrame(data)"
   ]
  },
  {
   "cell_type": "code",
   "execution_count": 4,
   "metadata": {},
   "outputs": [],
   "source": [
    "# Hàm loại bỏ dấu chấm trong cột battery\n",
    "df['battery'] = df['battery'].str.replace('.', '', regex=False)\n",
    "df['battery'] = df['battery'].str.replace(',', '', regex=False)\n"
   ]
  },
  {
   "cell_type": "code",
   "execution_count": 5,
   "metadata": {},
   "outputs": [],
   "source": [
    "# Hàm xử lý dữ liệu pin\n",
    "def clean_battery(value):\n",
    "    # Tìm dung lượng pin (xxxx mAh) trong chuỗi\n",
    "    match = re.search(r'\\d{3,5}\\s*mAh', str(value))  # Tìm các số có từ 3-5 chữ số theo sau là 'mAh'\n",
    "    if match:\n",
    "        return match.group(0)  # Nếu tìm thấy, trả về phần dung lượng pin\n",
    "    else:\n",
    "        return 'N/A'  # Nếu không, thay thế bằng 'N/A'\n",
    "\n",
    "# Áp dụng hàm vào cột battery\n",
    "df['battery'] = df['battery'].apply(clean_battery)\n"
   ]
  },
  {
   "cell_type": "code",
   "execution_count": 6,
   "metadata": {},
   "outputs": [],
   "source": [
    "# Hàm tách giá trị và đơn vị, xử lý ngoại lệ\n",
    "def split_value_unit(column):\n",
    "    # Regular expression để tách số khỏi đơn vị\n",
    "    value = column.apply(lambda x: re.findall(r'[\\d,.]+', str(x))[0] if pd.notnull(x) and re.findall(r'[\\d,.]+', str(x)) else \"N/A\")  # Tách phần số\n",
    "    unit = column.apply(lambda x: re.sub(r'[\\d,.]+', '', str(x)).strip() if pd.notnull(x) and re.findall(r'[\\d,.]+', str(x)) else \"N/A\")  # Tách phần đơn vị\n",
    "    return value, unit\n",
    "\n",
    "\n",
    "# Áp dụng hàm cho các cột 'battery' và 'display_size'\n",
    "df['battery_value'], df['battery_unit'] = split_value_unit(df['battery'])\n",
    "df['display_size_value'], df['display_size_unit'] = split_value_unit(df['display_size'])\n",
    "df['mobile_tan_so_quet_value'], df['mobile_tan_so_quet_unit'] = split_value_unit(df['mobile_tan_so_quet'])\n"
   ]
  },
  {
   "cell_type": "code",
   "execution_count": 8,
   "metadata": {},
   "outputs": [],
   "source": [
    "\n",
    "# Hàm để chuyển đổi định dạng rating từ \"x/y\" thành \"x.0/y\"\n",
    "def format_rating(rating):\n",
    "    if pd.isna(rating):\n",
    "        return rating  # Trả về nguyên bản nếu là NaN\n",
    "    try:\n",
    "        # Tách giá trị, làm tròn số đến 1 chữ số thập phân\n",
    "        score, out_of = rating.split('/')\n",
    "        return f\"{float(score):.1f}/{out_of}\"\n",
    "    except:\n",
    "        return rating  # Trả về nguyên bản nếu có lỗi\n",
    "\n",
    "# Áp dụng hàm vào cột `average_rating`\n",
    "df['average_rating'] = df['average_rating'].apply(format_rating)"
   ]
  },
  {
   "cell_type": "code",
   "execution_count": 9,
   "metadata": {},
   "outputs": [],
   "source": [
    "# Hàm thay thế giá trị 0 trong special_price bằng giá trị tương ứng trong price\n",
    "df['special_price'] = df.apply(\n",
    "    lambda row: row['price'] if row['special_price'] == 0 else row['special_price'], axis=1)\n"
   ]
  },
  {
   "cell_type": "code",
   "execution_count": 10,
   "metadata": {},
   "outputs": [],
   "source": [
    "#xóa cột battery và display_size\n",
    "df.drop(['battery', 'display_size', 'mobile_tan_so_quet'], axis=1, inplace=True)\n"
   ]
  },
  {
   "cell_type": "code",
   "execution_count": 11,
   "metadata": {},
   "outputs": [],
   "source": [
    "#Sắp xếp lại thứ tự cột\n",
    "df = df[['product_id',\t'name',\t'price',\t'special_price', 'battery_value',\t'battery_unit',\t'display_size_value',\t'display_size_unit',\t'mobile_tan_so_quet_value', 'mobile_tan_so_quet_unit',\t'manufacturer',\t'chipset',\t'mobile_tinh_nang_dac_biet',\t'mobile_cong_sac',\t'warranty_information',\t'average_rating'\t]]"
   ]
  },
  {
   "cell_type": "code",
   "execution_count": 12,
   "metadata": {},
   "outputs": [],
   "source": [
    "#Xuất file Json\n",
    "df.to_json('TLP_processing.json', orient='records', force_ascii=False)\n",
    "# Exporting the DataFrame to a JSON file with pretty formatting for readability\n",
    "json_output_path = '/mnt/data/TLP_processing_pretty.json'\n",
    "\n",
    "\n"
   ]
  },
  {
   "cell_type": "code",
   "execution_count": 13,
   "metadata": {},
   "outputs": [],
   "source": [
    "# Xuất ra file CSV mới\n",
    "df.to_csv('Telephone_processing.csv', index=False, encoding='utf-8-sig')"
   ]
  }
 ],
 "metadata": {
  "kernelspec": {
   "display_name": "Python 3",
   "language": "python",
   "name": "python3"
  },
  "language_info": {
   "codemirror_mode": {
    "name": "ipython",
    "version": 3
   },
   "file_extension": ".py",
   "mimetype": "text/x-python",
   "name": "python",
   "nbconvert_exporter": "python",
   "pygments_lexer": "ipython3",
   "version": "3.12.2"
  }
 },
 "nbformat": 4,
 "nbformat_minor": 2
}
