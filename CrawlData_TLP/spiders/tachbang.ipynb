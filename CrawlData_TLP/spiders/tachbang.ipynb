{
 "cells": [
  {
   "cell_type": "code",
   "execution_count": 1,
   "metadata": {},
   "outputs": [],
   "source": [
    "import json\n",
    "import numpy as np\n",
    "import pandas as pd\n",
    "import re"
   ]
  },
  {
   "cell_type": "code",
   "execution_count": 5,
   "metadata": {},
   "outputs": [],
   "source": [
    "df = pd.read_csv(\"san_pham31.csv\")  # Nếu bạn đọc từ file CSV"
   ]
  },
  {
   "cell_type": "code",
   "execution_count": 6,
   "metadata": {},
   "outputs": [],
   "source": [
    "# Chuyển 0 thành np.nan\n",
    "df['total_count'] = df['total_count'].replace(0, np.nan)\n",
    "\n"
   ]
  },
  {
   "cell_type": "code",
   "execution_count": 10,
   "metadata": {},
   "outputs": [
    {
     "data": {
      "text/plain": [
       "product_id                   0\n",
       "name                         0\n",
       "price                        0\n",
       "special_price                0\n",
       "total_count                780\n",
       "manufacturer                 0\n",
       "operating_system             0\n",
       "os_version                   0\n",
       "battery                      0\n",
       "chipset                      0\n",
       "display_size                 0\n",
       "display_resolution           0\n",
       "mobile_type_of_display       0\n",
       "memory_internal              0\n",
       "storage                      0\n",
       "product_weight               0\n",
       "mobile_tan_so_quet           0\n",
       "loai_mang                    0\n",
       "mobile_cong_sac              0\n",
       "mobile_cam_bien_van_tay      0\n",
       "warranty_information         0\n",
       "average_rating               0\n",
       "key_selling_points           0\n",
       "promotion_information        0\n",
       "dtype: int64"
      ]
     },
     "execution_count": 10,
     "metadata": {},
     "output_type": "execute_result"
    }
   ],
   "source": [
    "df.isna().sum()"
   ]
  },
  {
   "cell_type": "code",
   "execution_count": 8,
   "metadata": {},
   "outputs": [
    {
     "data": {
      "text/plain": [
       "np.float64(3.0)"
      ]
     },
     "execution_count": 8,
     "metadata": {},
     "output_type": "execute_result"
    }
   ],
   "source": [
    "# Tính trung vị\n",
    "median_value = df['total_count'].median()\n",
    "median_value"
   ]
  },
  {
   "cell_type": "code",
   "execution_count": 9,
   "metadata": {},
   "outputs": [
    {
     "data": {
      "text/plain": [
       "np.float64(204.0)"
      ]
     },
     "execution_count": 9,
     "metadata": {},
     "output_type": "execute_result"
    }
   ],
   "source": [
    "max = df['total_count'].max()\n",
    "max"
   ]
  },
  {
   "cell_type": "code",
   "execution_count": 11,
   "metadata": {},
   "outputs": [
    {
     "data": {
      "text/plain": [
       "np.float64(1.0)"
      ]
     },
     "execution_count": 11,
     "metadata": {},
     "output_type": "execute_result"
    }
   ],
   "source": [
    "min = df['total_count'].min()\n",
    "min"
   ]
  },
  {
   "cell_type": "code",
   "execution_count": 12,
   "metadata": {},
   "outputs": [
    {
     "data": {
      "text/plain": [
       "np.float64(12.544747081712062)"
      ]
     },
     "execution_count": 12,
     "metadata": {},
     "output_type": "execute_result"
    }
   ],
   "source": [
    "mean=df['total_count'].mean()\n",
    "mean"
   ]
  },
  {
   "cell_type": "code",
   "execution_count": 35,
   "metadata": {},
   "outputs": [
    {
     "name": "stdout",
     "output_type": "stream",
     "text": [
      "Chovy\n"
     ]
    }
   ],
   "source": [
    "# 1. Tạo bảng Manufacturers\n",
    "manufacturers_df = df[['manufacturer']].drop_duplicates().reset_index(drop=True)\n",
    "manufacturers_df.columns = ['manufacturer_name']\n",
    "manufacturers_df['manufacturer_id'] = manufacturers_df.index + 1  # Gán id từ 1 trở đi\n",
    "\n",
    "# 2. Tạo bảng Operating Systems\n",
    "operating_systems_df = df[['operating_system', 'os_version']].drop_duplicates().reset_index(drop=True)\n",
    "operating_systems_df.columns = ['os_name', 'os_version']\n",
    "operating_systems_df['os_id'] = operating_systems_df.index + 1001  # Gán id từ 1001 trở đi\n",
    "\n",
    "# 3. Tạo bảng Display\n",
    "display_df = df[['display_size', 'display_resolution', 'mobile_type_of_display']].drop_duplicates().reset_index(drop=True)\n",
    "display_df.columns = ['display_size', 'display_resolution', 'mobile_type_of_display']\n",
    "display_df['display_id'] = display_df.index + 2001  # Gán id từ 2001 trở đi\n",
    "\n",
    "# 4. Tạo bảng Products và giữ lại manufacturer_id và os_id, cũng như các cột cần thiết cho phép nối với display_df\n",
    "products_df = df[['product_id', 'name', 'price', 'special_price', \n",
    "                   'total_count', 'manufacturer', \n",
    "                   'operating_system', 'battery', 'chipset', \n",
    "                   'memory_internal', 'storage', \n",
    "                   'product_weight', \n",
    "                   'mobile_tan_so_quet', 'loai_mang', \n",
    "                   'mobile_cong_sac', 'mobile_cam_bien_van_tay', \n",
    "                   'warranty_information', 'average_rating', \n",
    "                   'key_selling_points', 'promotion_information', \n",
    "                   'display_size', 'display_resolution']].copy()  # Thêm display_size và display_resolution vào đây\n",
    "\n",
    "# Ghép manufacturer_id vào products_df\n",
    "products_df = products_df.merge(manufacturers_df, \n",
    "                                 how='left', \n",
    "                                 left_on='manufacturer', \n",
    "                                 right_on='manufacturer_name')\n",
    "\n",
    "# Ghép os_id vào products_df\n",
    "products_df = products_df.merge(operating_systems_df[['os_name', 'os_version', 'os_id']], \n",
    "                                 how='left', \n",
    "                                 left_on='operating_system', \n",
    "                                 right_on='os_name')\n",
    "\n",
    "# Ghép display_id vào products_df\n",
    "products_df = products_df.merge(display_df, \n",
    "                                 how='left', \n",
    "                                 left_on=['display_size', 'display_resolution'], \n",
    "                                 right_on=['display_size', 'display_resolution'])\n",
    "\n",
    "# Xóa cột không cần thiết\n",
    "products_df = products_df[['product_id', 'name', 'price', 'special_price', \n",
    "                             'total_count', 'manufacturer_id', 'os_id', \n",
    "                             'display_id', 'battery', 'chipset', \n",
    "                             'memory_internal', 'storage', \n",
    "                             'product_weight', \n",
    "                             'mobile_tan_so_quet', 'loai_mang', \n",
    "                             'mobile_cong_sac', 'mobile_cam_bien_van_tay', \n",
    "                             'warranty_information', 'average_rating', \n",
    "                             'key_selling_points', 'promotion_information']]\n",
    "\n",
    "# Xuất ra file CSV\n",
    "manufacturers_df.to_csv('manufacturers.csv', index=False, encoding='utf-8-sig')\n",
    "operating_systems_df.to_csv('operating_systems.csv', index=False, encoding='utf-8-sig')\n",
    "display_df.to_csv('display.csv', index=False, encoding='utf-8-sig')\n",
    "products_df.to_csv('products.csv', index=False, encoding='utf-8-sig')\n",
    "\n",
    "\n",
    "print(\"Chovy\")"
   ]
  },
  {
   "cell_type": "code",
   "execution_count": 39,
   "metadata": {},
   "outputs": [
    {
     "data": {
      "text/plain": [
       "manufacturer_name    object\n",
       "manufacturer_id       int64\n",
       "dtype: object"
      ]
     },
     "execution_count": 39,
     "metadata": {},
     "output_type": "execute_result"
    }
   ],
   "source": [
    "manufacturers_df.dtypes\n"
   ]
  },
  {
   "cell_type": "code",
   "execution_count": 40,
   "metadata": {},
   "outputs": [
    {
     "data": {
      "text/plain": [
       "os_name       object\n",
       "os_version    object\n",
       "os_id          int64\n",
       "dtype: object"
      ]
     },
     "execution_count": 40,
     "metadata": {},
     "output_type": "execute_result"
    }
   ],
   "source": [
    "operating_systems_df.dtypes"
   ]
  },
  {
   "cell_type": "code",
   "execution_count": 41,
   "metadata": {},
   "outputs": [
    {
     "data": {
      "text/plain": [
       "display_size              float64\n",
       "display_resolution         object\n",
       "mobile_type_of_display     object\n",
       "display_id                  int64\n",
       "dtype: object"
      ]
     },
     "execution_count": 41,
     "metadata": {},
     "output_type": "execute_result"
    }
   ],
   "source": [
    "display_df.dtypes"
   ]
  },
  {
   "cell_type": "code",
   "execution_count": 42,
   "metadata": {},
   "outputs": [
    {
     "data": {
      "text/plain": [
       "product_id                   int64\n",
       "name                        object\n",
       "price                      float64\n",
       "special_price              float64\n",
       "total_count                  int64\n",
       "manufacturer_id              int64\n",
       "os_id                        int64\n",
       "display_id                   int64\n",
       "battery                      int64\n",
       "chipset                     object\n",
       "memory_internal            float64\n",
       "storage                    float64\n",
       "product_weight             float64\n",
       "mobile_tan_so_quet         float64\n",
       "loai_mang                  float64\n",
       "mobile_cong_sac             object\n",
       "mobile_cam_bien_van_tay     object\n",
       "warranty_information        object\n",
       "average_rating             float64\n",
       "key_selling_points          object\n",
       "promotion_information       object\n",
       "dtype: object"
      ]
     },
     "execution_count": 42,
     "metadata": {},
     "output_type": "execute_result"
    }
   ],
   "source": [
    "products_df.dtypes"
   ]
  },
  {
   "cell_type": "code",
   "execution_count": null,
   "metadata": {},
   "outputs": [],
   "source": []
  },
  {
   "cell_type": "code",
   "execution_count": null,
   "metadata": {},
   "outputs": [],
   "source": [
    "import pandas as pd\n",
    "from pymongo import MongoClient\n",
    "import psycopg2\n",
    "\n",
    "# Kết nối đến MongoDB\n",
    "mongo_client = MongoClient('mongodb://localhost:27017/')\n",
    "mongo_db = mongo_client['ptdl_data']  # Tên database của bạn\n",
    "\n",
    "# Các collection mà bạn đã tạo\n",
    "collections = {\n",
    "    'telephone': mongo_db['telephone'],\n",
    "    'manu': mongo_db['manu'],\n",
    "    'os': mongo_db['os'],\n",
    "    'display': mongo_db['display'],\n",
    "    'products': mongo_db['products']\n",
    "}\n",
    "\n",
    "# Kết nối đến PostgreSQL\n",
    "postgres_connection = psycopg2.connect(\n",
    "    database=\"your_database\",       # Tên cơ sở dữ liệu PostgreSQL\n",
    "    user=\"your_username\",           # Tên người dùng\n",
    "    password=\"your_password\",       # Mật khẩu\n",
    "    host=\"localhost\",\n",
    "    port=\"5432\"\n",
    ")\n",
    "postgres_cursor = postgres_connection.cursor()\n",
    "\n",
    "# Chèn dữ liệu vào PostgreSQL\n",
    "def insert_data_to_postgres(collection_name, data):\n",
    "    if collection_name == 'manu':\n",
    "        for row in data:\n",
    "            insert_query = \"INSERT INTO manu (manufacturer_id, manufacturer_name) VALUES (%s, %s);\"\n",
    "            postgres_cursor.execute(insert_query, (row['manufacturer_id'], row['manufacturer_name']))\n",
    "    \n",
    "    elif collection_name == 'os':\n",
    "        for row in data:\n",
    "            insert_query = \"INSERT INTO os (os_id, os_name, os_version) VALUES (%s, %s, %s);\"\n",
    "            postgres_cursor.execute(insert_query, (row['os_id'], row['os_name'], row['os_version']))\n",
    "    \n",
    "    elif collection_name == 'display':\n",
    "        for row in data:\n",
    "            insert_query = \"INSERT INTO display (display_id, display_size, display_resolution, mobile_type_of_display) VALUES (%s, %s, %s, %s);\"\n",
    "            postgres_cursor.execute(insert_query, (row['display_id'], row['display_size'], row['display_resolution'], row['mobile_type_of_display']))\n",
    "    \n",
    "    elif collection_name == 'products':\n",
    "        for row in data:\n",
    "            insert_query = \"INSERT INTO products (product_id, name, price, special_price, total_count, manufacturer_id, os_id, display_id, battery, chipset) VALUES (%s, %s, %s, %s, %s, %s, %s, %s, %s, %s);\"\n",
    "            postgres_cursor.execute(insert_query, (row['product_id'], row['name'], row['price'], row['special_price'], row['total_count'], row['manufacturer_id'], row['os_id'], row['display_id'], row['battery'], row['chipset']))\n",
    "\n",
    "    elif collection_name == 'telephone':\n",
    "        for row in data:\n",
    "            insert_query = \"INSERT INTO telephone (product_id, name, price, special_price, total_count, manufacturer_id, os_id, display_id, battery, chipset) VALUES (%s, %s, %s, %s, %s, %s, %s, %s, %s, %s);\"\n",
    "            postgres_cursor.execute(insert_query, (row['product_id'], row['name'], row['price'], row['special_price'], row['total_count'], row['manufacturer_id'], row['os_id'], row['display_id'], row['battery'], row['chipset']))\n",
    "\n",
    "# Lặp qua các collection và chèn dữ liệu vào PostgreSQL\n",
    "for name, collection in collections.items():\n",
    "    data = list(collection.find())  # Lấy tất cả dữ liệu từ collection\n",
    "    insert_data_to_postgres(name, data)\n",
    "\n",
    "# Lưu thay đổi vào PostgreSQL\n",
    "postgres_connection.commit()\n",
    "\n",
    "# Đóng kết nối\n",
    "postgres_cursor.close()\n",
    "postgres_connection.close()\n",
    "mongo_client.close()\n",
    "\n",
    "print(\"All data has been inserted into PostgreSQL successfully.\")"
   ]
  },
  {
   "cell_type": "code",
   "execution_count": 43,
   "metadata": {},
   "outputs": [
    {
     "data": {
      "text/plain": [
       "product_id                   int64\n",
       "name                        object\n",
       "price                      float64\n",
       "special_price              float64\n",
       "total_count                  int64\n",
       "manufacturer                object\n",
       "operating_system            object\n",
       "os_version                  object\n",
       "battery                      int64\n",
       "chipset                     object\n",
       "display_size               float64\n",
       "display_resolution          object\n",
       "mobile_type_of_display      object\n",
       "memory_internal            float64\n",
       "storage                    float64\n",
       "product_weight             float64\n",
       "mobile_tan_so_quet         float64\n",
       "loai_mang                  float64\n",
       "mobile_cong_sac             object\n",
       "mobile_cam_bien_van_tay     object\n",
       "warranty_information        object\n",
       "average_rating             float64\n",
       "key_selling_points          object\n",
       "promotion_information       object\n",
       "dtype: object"
      ]
     },
     "execution_count": 43,
     "metadata": {},
     "output_type": "execute_result"
    }
   ],
   "source": [
    "df.dtypes"
   ]
  },
  {
   "cell_type": "code",
   "execution_count": null,
   "metadata": {},
   "outputs": [],
   "source": [
    "CREATE TABLE telephone (\n",
    "    product_id INT PRIMARY KEY,              \n",
    "    name TEXT,                              \n",
    "    price DOUBLE PRECISION,                 \n",
    "    special_price DOUBLE PRECISION,         \n",
    "    total_count INT,                        \n",
    "    manufacturer TEXT,                      \n",
    "    operating_system TEXT,                  \n",
    "    os_version TEXT,                        \n",
    "    battery INT,                             \n",
    "    chipset TEXT,                           \n",
    "    display_size DOUBLE PRECISION,           \n",
    "    display_resolution TEXT,                 \n",
    "    mobile_type_of_display TEXT,            \n",
    "    memory_internal DOUBLE PRECISION,        \n",
    "    storage DOUBLE PRECISION,                \n",
    "    product_weight DOUBLE PRECISION,         \n",
    "    mobile_tan_so_quet DOUBLE PRECISION,    \n",
    "    loai_mang DOUBLE PRECISION,              \n",
    "    mobile_cong_sac TEXT,                   \n",
    "    mobile_cam_bien_van_tay TEXT,           \n",
    "    warranty_information TEXT,               \n",
    "    average_rating DOUBLE PRECISION,        \n",
    "    key_selling_points TEXT,                \n",
    "    promotion_information TEXT               \n",
    ");"
   ]
  },
  {
   "cell_type": "code",
   "execution_count": null,
   "metadata": {},
   "outputs": [],
   "source": [
    "CREATE TABLE manu (\n",
    "    manufacturer_id SERIAL PRIMARY KEY,\n",
    "    manufacturer_name VARCHAR(255) NOT NULL\n",
    ");\n",
    "\n",
    "CREATE TABLE os (\n",
    "    os_id SERIAL PRIMARY KEY,\n",
    "    os_name VARCHAR(255) NOT NULL,\n",
    "    os_version VARCHAR(255) NOT NULL\n",
    ");\n",
    "\n",
    "CREATE TABLE display (\n",
    "    display_id SERIAL PRIMARY KEY,\n",
    "    display_size VARCHAR(255) NOT NULL,\n",
    "    display_resolution VARCHAR(255) NOT NULL,\n",
    "    mobile_type_of_display VARCHAR(255) NOT NULL\n",
    ");\n",
    "\n",
    "CREATE TABLE Products (\n",
    "    product_id INT PRIMARY KEY,\n",
    "    name VARCHAR(255) NOT NULL,\n",
    "    price DECIMAL(15, 2) NOT NULL,\n",
    "    special_price DECIMAL(15, 2),\n",
    "    total_count INT NOT NULL,\n",
    "    manufacturer_id INT REFERENCES Manufacturers(manufacturer_id),\n",
    "    os_id INT REFERENCES Operating_Systems(os_id),\n",
    "    display_id INT REFERENCES Display(display_id),\n",
    "    battery VARCHAR(50),\n",
    "    chipset VARCHAR(100),\n",
    "    memory_internal VARCHAR(255),\n",
    "    storage VARCHAR(100),\n",
    "    product_weight VARCHAR(50),\n",
    "    mobile_tan_so_quet VARCHAR(50),\n",
    "    loai_mang VARCHAR(50),\n",
    "    mobile_cong_sac VARCHAR(50),\n",
    "    mobile_cam_bien_van_tay VARCHAR(50),\n",
    "    warranty_information TEXT,\n",
    "    average_rating DECIMAL(3, 2),\n",
    "    key_selling_points TEXT,\n",
    "    promotion_information TEXT\n",
    ");\n",
    "\n",
    "CREATE TABLE telephone (\n",
    "    product_id INT PRIMARY KEY,              \n",
    "    name TEXT,                              \n",
    "    price DOUBLE PRECISION,                 \n",
    "    special_price DOUBLE PRECISION,         \n",
    "    total_count INT,                        \n",
    "    manufacturer TEXT,                      \n",
    "    operating_system TEXT,                  \n",
    "    os_version TEXT,                        \n",
    "    battery INT,                             \n",
    "    chipset TEXT,                           \n",
    "    display_size DOUBLE PRECISION,           \n",
    "    display_resolution TEXT,                 \n",
    "    mobile_type_of_display TEXT,            \n",
    "    memory_internal DOUBLE PRECISION,        \n",
    "    storage DOUBLE PRECISION,                \n",
    "    product_weight DOUBLE PRECISION,         \n",
    "    mobile_tan_so_quet DOUBLE PRECISION,    \n",
    "    loai_mang DOUBLE PRECISION,              \n",
    "    mobile_cong_sac TEXT,                   \n",
    "    mobile_cam_bien_van_tay TEXT,           \n",
    "    warranty_information TEXT,               \n",
    "    average_rating DOUBLE PRECISION,        \n",
    "    key_selling_points TEXT,                \n",
    "    promotion_information TEXT               \n",
    ");"
   ]
  },
  {
   "cell_type": "code",
   "execution_count": null,
   "metadata": {},
   "outputs": [],
   "source": [
    "CREATE TABLE Products (\n",
    "    product_id SERIAL PRIMARY KEY,  \n",
    "    name VARCHAR(255) NOT NULL,  \n",
    "    price NUMERIC(10, 2) NOT NULL,  \n",
    "    special_price NUMERIC(10, 2),  \n",
    "    total_count INT NOT NULL,  \n",
    "    manufacturer_id INT NOT NULL,  \n",
    "    os_id INT NOT NULL, \n",
    "    display_id INT,  \n",
    "    battery VARCHAR(100),  \n",
    "    chipset VARCHAR(100),  \n",
    "    memory_internal VARCHAR(50),  \n",
    "    storage VARCHAR(50),  \n",
    "    product_weight VARCHAR(50), \n",
    "    mobile_tan_so_quet VARCHAR(50),  \n",
    "    loai_mang VARCHAR(50),  \n",
    "    mobile_cong_sac VARCHAR(50),  \n",
    "    mobile_cam_bien_van_tay VARCHAR(50),  \n",
    "    warranty_information VARCHAR(100), \n",
    "    average_rating NUMERIC(2, 1),  \n",
    "    key_selling_points TEXT,  \n",
    "    promotion_information TEXT,  \n",
    "    FOREIGN KEY (manufacturer_id) REFERENCES Manufacturers(manufacturer_id),  \n",
    "    FOREIGN KEY (os_id) REFERENCES Operating_Systems(os_id),  \n",
    "    FOREIGN KEY (display_id) REFERENCES Display(display_id)  \n",
    ");"
   ]
  },
  {
   "cell_type": "code",
   "execution_count": null,
   "metadata": {},
   "outputs": [],
   "source": [
    "from psycopg2.extras import RealDictCursor\n",
    "import pyodbc\n",
    "import psycopg2\n",
    "\n",
    "# Kết nối tới PostgreSQL\n",
    "postgres_connection = psycopg2.connect(\n",
    "    dbname='mydatabase',  # Thay đổi theo tên cơ sở dữ liệu của bạn\n",
    "    user='postgres',      # Thay đổi theo tên người dùng của bạn\n",
    "    password='141216',    # Thay đổi theo mật khẩu của bạn\n",
    "    host='localhost',     # Thay đổi nếu cần\n",
    "    port='5432'           # Thay đổi nếu cần\n",
    ")\n",
    "postgres_cursor = postgres_connection.cursor(cursor_factory=RealDictCursor)\n",
    "\n",
    "# Kết nối tới SQL Server\n",
    "sqlserver_connection = pyodbc.connect(\n",
    "    'DRIVER={SQL Server};'\n",
    "    'SERVER=KID1412\\SQLEXPRESS;'  # Thay đổi theo máy chủ của bạn\n",
    "    'DATABASE=PTDL_CK;'            # Thay đổi theo tên cơ sở dữ liệu của bạn\n",
    "    'Trusted_Connection=yes;'\n",
    ")\n",
    "sqlserver_cursor = sqlserver_connection.cursor()\n",
    "\n",
    "try:\n",
    "    # Lấy dữ liệu từ bảng telephone trong PostgreSQL\n",
    "    postgres_cursor.execute(\"SELECT product_id, name, price, special_price, total_count, manufacturer, operating_system, os_version, battery, chipset, display_size, display_resolution, mobile_type_of_display, memory_internal, storage, product_weight, mobile_tan_so_quet, loai_mang, mobile_cong_sac, mobile_cam_bien_van_tay, warranty_information, average_rating, key_selling_points, promotion_information FROM telephone\")\n",
    "    rows = postgres_cursor.fetchall()\n",
    "\n",
    "    # Kiểm tra dữ liệu\n",
    "    print(\"Dữ liệu lấy từ PostgreSQL:\", rows)\n",
    "\n",
    "    # Bật IDENTITY_INSERT cho bảng telephone trong SQL Server (nếu cần thiết)\n",
    "    sqlserver_cursor.execute(\"SET IDENTITY_INSERT telephone ON\")\n",
    "\n",
    "    try:\n",
    "        # Chèn dữ liệu vào SQL Server\n",
    "        insert_query = \"INSERT INTO telephone (product_id, name, price, special_price, total_count, manufacturer, operating_system, os_version, battery, chipset, display_size, display_resolution, mobile_type_of_display, memory_internal, storage, product_weight, mobile_tan_so_quet, loai_mang, mobile_cong_sac, mobile_cam_bien_van_tay, warranty_information, average_rating, key_selling_points, promotion_information) VALUES (?, ?, ?, ?, ?, ?, ?, ?, ?, ?, ?, ?, ?, ?, ?, ?, ?, ?, ?, ?, ?, ?, ?)\"\n",
    "        for row in rows:\n",
    "            print(f\"Chèn dữ liệu: {row}\")  # In từng row để kiểm tra\n",
    "\n",
    "            # Chèn dữ liệu vào SQL Server với cả product_id\n",
    "            sqlserver_cursor.execute(insert_query, (\n",
    "                row['product_id'],\n",
    "                row['name'],\n",
    "                row['price'],\n",
    "                row['special_price'],\n",
    "                row['total_count'],\n",
    "                row['manufacturer'],\n",
    "                row['operating_system'],\n",
    "                row['os_version'],\n",
    "                row['battery'],\n",
    "                row['chipset'],\n",
    "                row['display_size'],\n",
    "                row['display_resolution'],\n",
    "                row['mobile_type_of_display'],\n",
    "                row['memory_internal'],\n",
    "                row['storage'],\n",
    "                row['product_weight'],\n",
    "                row['mobile_tan_so_quet'],\n",
    "                row['loai_mang'],\n",
    "                row['mobile_cong_sac'],\n",
    "                row['mobile_cam_bien_van_tay'],\n",
    "                row['warranty_information'],\n",
    "                row['average_rating'],\n",
    "                row['key_selling_points'],\n",
    "                row['promotion_information']\n",
    "            ))\n",
    "\n",
    "    except Exception as insert_error:\n",
    "        print(f\"Lỗi khi chèn dữ liệu: {insert_error}\")\n",
    "        sqlserver_connection.rollback()  # Rollback nếu có lỗi xảy ra\n",
    "\n",
    "    finally:\n",
    "        # Tắt IDENTITY_INSERT sau khi hoàn tất\n",
    "        sqlserver_cursor.execute(\"SET IDENTITY_INSERT telephone OFF\")\n",
    "\n",
    "    # Thực hiện commit\n",
    "    sqlserver_connection.commit()\n",
    "    print(\"Dữ liệu đã được chuyển từ PostgreSQL sang SQL Server thành công!\")\n",
    "\n",
    "except Exception as general_error:\n",
    "    print(f\"Lỗi xảy ra: {general_error}\")\n",
    "\n",
    "finally:\n",
    "    # Đóng kết nối\n",
    "    postgres_cursor.close()\n",
    "    postgres_connection.close()\n",
    "    sqlserver_cursor.close()\n",
    "    sqlserver_connection.close()"
   ]
  },
  {
   "cell_type": "code",
   "execution_count": null,
   "metadata": {},
   "outputs": [],
   "source": [
    "# 1. Tạo bảng Manufacturers\n",
    "manufacturers_df = df[['manufacturer']].drop_duplicates().reset_index(drop=True)\n",
    "manufacturers_df.columns = ['manufacturer_name']\n",
    "manufacturers_df['manufacturer_id'] = manufacturers_df.index + 1  # Gán id từ 1 trở đi\n",
    "\n",
    "# 2. Tạo bảng Operating Systems\n",
    "operating_systems_df = df[['operating_system', 'os_version']].drop_duplicates().reset_index(drop=True)\n",
    "operating_systems_df.columns = ['os_name', 'os_version']\n",
    "operating_systems_df['os_id'] = operating_systems_df.index + 1001  # Gán id từ 1001 trở đi\n",
    "\n",
    "# 3. Tạo bảng Display\n",
    "display_df = df[['display_size', 'display_resolution', 'mobile_type_of_display']].drop_duplicates().reset_index(drop=True)\n",
    "display_df.columns = ['display_size', 'display_resolution', 'mobile_type_of_display']\n",
    "display_df['display_id'] = display_df.index + 2001  # Gán id từ 2001 trở đi\n",
    "\n",
    "# 4. Tạo bảng Products và giữ lại manufacturer_id và os_id, cũng như các cột cần thiết cho phép nối với display_df\n",
    "products_df = df[['product_id', 'name', 'price', 'special_price', \n",
    "                   'total_count', 'manufacturer', \n",
    "                   'operating_system', 'battery', 'chipset', \n",
    "                   'memory_internal', 'storage', \n",
    "                   'product_weight', \n",
    "                   'mobile_tan_so_quet', 'loai_mang', \n",
    "                   'mobile_cong_sac', 'mobile_cam_bien_van_tay', \n",
    "                   'warranty_information', 'average_rating', \n",
    "                   'key_selling_points', 'promotion_information', \n",
    "                   'display_size', 'display_resolution']].copy()  # Thêm display_size và display_resolution vào đây\n",
    "\n",
    "# Ghép manufacturer_id vào products_df\n",
    "products_df = products_df.merge(manufacturers_df, \n",
    "                                 how='left', \n",
    "                                 left_on='manufacturer', \n",
    "                                 right_on='manufacturer_name')\n",
    "\n",
    "# Ghép os_id vào products_df\n",
    "products_df = products_df.merge(operating_systems_df[['os_name', 'os_version', 'os_id']], \n",
    "                                 how='left', \n",
    "                                 left_on='operating_system', \n",
    "                                 right_on='os_name')\n",
    "\n",
    "# Ghép display_id vào products_df\n",
    "products_df = products_df.merge(display_df, \n",
    "                                 how='left', \n",
    "                                 left_on=['display_size', 'display_resolution'], \n",
    "                                 right_on=['display_size', 'display_resolution'])\n",
    "\n",
    "# Xóa cột không cần thiết\n",
    "products_df = products_df[['product_id', 'name', 'price', 'special_price', \n",
    "                             'total_count', 'manufacturer_id', 'os_id', \n",
    "                             'display_id', 'battery', 'chipset', \n",
    "                             'memory_internal', 'storage', \n",
    "                             'product_weight', \n",
    "                             'mobile_tan_so_quet', 'loai_mang', \n",
    "                             'mobile_cong_sac', 'mobile_cam_bien_van_tay', \n",
    "                             'warranty_information', 'average_rating', \n",
    "                             'key_selling_points', 'promotion_information']]\n",
    "\n",
    "# Xuất ra file CSV\n",
    "manufacturers_df.to_csv('manufacturers.csv', index=False, encoding='utf-8-sig')\n",
    "operating_systems_df.to_csv('operating_systems.csv', index=False, encoding='utf-8-sig')\n",
    "display_df.to_csv('display.csv', index=False, encoding='utf-8-sig')\n",
    "products_df.to_csv('products.csv', index=False, encoding='utf-8-sig')\n",
    "\n",
    "\n",
    "print(\"Chovy\")"
   ]
  },
  {
   "cell_type": "code",
   "execution_count": null,
   "metadata": {},
   "outputs": [],
   "source": [
    "import pandas as pd\n",
    "from pymongo import MongoClient\n",
    "\n",
    "\n",
    "# Tạo danh sách chứa tất cả DataFrame\n",
    "dataframes = [df, manufacturers_df, operating_systems_df, display_df, products_df]\n",
    "# Kết nối tới MongoDB\n",
    "client = MongoClient('mongodb://localhost:27017/')  # Địa chỉ MongoDB\n",
    "db = client['ptdl_cleandata']  # Thay 'your_database_name' bằng tên database của bạn\n",
    "\n",
    "# Tên collection cho từng DataFrame nếu cần\n",
    "collection_names = ['telephone', 'manu', 'os', 'display', 'products']\n",
    "\n",
    "# Lặp qua các DataFrame và chèn vào MongoDB\n",
    "for df, collection_name in zip(dataframes, collection_names):\n",
    "    collection = db[collection_name]  # Chọn collection tương ứng\n",
    "    data_to_insert = df.to_dict(orient='records')  # Chuyển đổi DataFrame thành danh sách dict\n",
    "    collection.insert_many(data_to_insert)  # Chèn dữ liệu vào MongoDB\n",
    "\n",
    "print(\"All dataframes have been inserted into MongoDB successfully.\")"
   ]
  },
  {
   "cell_type": "code",
   "execution_count": null,
   "metadata": {},
   "outputs": [],
   "source": [
    "CREATE TABLE Products (\n",
    "    product_id INT PRIMARY KEY,\n",
    "    name VARCHAR(255) NOT NULL,\n",
    "    price DECIMAL(15, 2) NOT NULL,\n",
    "    special_price DECIMAL(15, 2),\n",
    "    total_count INT NOT NULL,\n",
    "    manufacturer_id INT REFERENCES Manufacturers(manufacturer_id),\n",
    "    os_id INT REFERENCES Operating_Systems(os_id),\n",
    "    display_id INT REFERENCES Display(display_id),\n",
    "    battery VARCHAR(50),\n",
    "    chipset VARCHAR(100),\n",
    "    memory_internal VARCHAR(255),\n",
    "    storage VARCHAR(100),\n",
    "    product_weight VARCHAR(50),\n",
    "    mobile_tan_so_quet VARCHAR(50),\n",
    "    loai_mang VARCHAR(50),\n",
    "    mobile_cong_sac VARCHAR(50),\n",
    "    mobile_cam_bien_van_tay VARCHAR(50),\n",
    "    warranty_information TEXT,\n",
    "    average_rating DECIMAL(3, 2),\n",
    "    key_selling_points TEXT,\n",
    "    promotion_information TEXT\n",
    ");"
   ]
  }
 ],
 "metadata": {
  "kernelspec": {
   "display_name": "Python 3",
   "language": "python",
   "name": "python3"
  },
  "language_info": {
   "codemirror_mode": {
    "name": "ipython",
    "version": 3
   },
   "file_extension": ".py",
   "mimetype": "text/x-python",
   "name": "python",
   "nbconvert_exporter": "python",
   "pygments_lexer": "ipython3",
   "version": "3.11.9"
  }
 },
 "nbformat": 4,
 "nbformat_minor": 2
}
